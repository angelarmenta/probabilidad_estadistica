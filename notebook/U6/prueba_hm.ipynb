{
  "nbformat": 4,
  "nbformat_minor": 0,
  "metadata": {
    "colab": {
      "provenance": []
    },
    "kernelspec": {
      "name": "python3",
      "display_name": "Python 3"
    },
    "language_info": {
      "name": "python"
    }
  },
  "cells": [
    {
      "cell_type": "code",
      "execution_count": 8,
      "metadata": {
        "colab": {
          "base_uri": "https://localhost:8080/"
        },
        "id": "8KZw1yJMIg0a",
        "outputId": "d6d57e87-6684-40ac-9953-8d6e25f2be7f"
      },
      "outputs": [
        {
          "output_type": "stream",
          "name": "stdout",
          "text": [
            "Resultados de pruebas de hipótesis \n",
            "                Ejemplo  Estadístico   Valor p\n",
            "0    Media (t-student)     0.165395  0.872288\n",
            "1  Proporción (Z-test)     1.443376  0.148915\n"
          ]
        }
      ],
      "source": [
        "#developed by Roberto Ángel Meléndez-Armenta\n",
        "#https://www.youtube.com/@educar-ia\n",
        "\n",
        "import scipy.stats as stats\n",
        "import numpy as np\n",
        "\n",
        "# Ejemplo 1: Prueba de hipótesis para una media (t-student)\n",
        "# Supongamos una muestra de datos de producción donde la media esperada es 50\n",
        "# Queremos probar si la media real difiere de 50\n",
        "muestra_1 = np.array([48, 51, 49, 52, 50, 47, 53, 49, 50, 52])\n",
        "media_hipotetica = 50\n",
        "\n",
        "# t-test de una muestra\n",
        "t_stat, p_valor_1 = stats.ttest_1samp(muestra_1, media_hipotetica)\n",
        "\n",
        "# Ejemplo 2: Prueba de hipótesis para una proporción\n",
        "# Supongamos que en una muestra de 200 productos, 130 pasaron la prueba de calidad\n",
        "# Queremos verificar si la proporción real es diferente de 0.60\n",
        "n = 200\n",
        "x = 130\n",
        "p_muestral = x / n\n",
        "p_hipotetico = 0.60\n",
        "z_stat = (p_muestral - p_hipotetico) / np.sqrt(p_hipotetico * (1 - p_hipotetico) / n)\n",
        "p_valor_2 = 2 * (1 - stats.norm.cdf(abs(z_stat)))  # prueba bilateral\n",
        "\n",
        "# Preparar resultados para mostrar\n",
        "import pandas as pd\n",
        "\n",
        "resultados = pd.DataFrame({\n",
        "    'Ejemplo': ['Media (t-student)', 'Proporción (Z-test)'],\n",
        "    'Estadístico': [t_stat, z_stat],\n",
        "    'Valor p': [p_valor_1, p_valor_2]\n",
        "})\n",
        "\n",
        "print(\"Resultados de pruebas de hipótesis \\n\",resultados)\n",
        "\n",
        "\n"
      ]
    }
  ]
}